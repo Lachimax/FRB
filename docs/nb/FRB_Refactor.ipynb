{
 "cells": [
  {
   "cell_type": "markdown",
   "id": "d847a288-72f1-4dbd-a323-4ee3bdb2e2d6",
   "metadata": {},
   "source": [
    "# Public FRB Refactor"
   ]
  },
  {
   "cell_type": "code",
   "execution_count": 1,
   "id": "9808cf68-988f-456b-991b-56157552c808",
   "metadata": {},
   "outputs": [],
   "source": [
    "# imports\n",
    "from importlib import reload\n",
    "\n",
    "from frb import frb"
   ]
  },
  {
   "cell_type": "markdown",
   "id": "d4de4a75-ba92-4265-99f9-84ca01ef2b89",
   "metadata": {},
   "source": [
    "# Load up FRB Table"
   ]
  },
  {
   "cell_type": "code",
   "execution_count": 2,
   "id": "469bde36-bf00-4bbc-9668-aa394f7b6a4b",
   "metadata": {},
   "outputs": [],
   "source": [
    "reload(frb)\n",
    "frbs, _ = frb.build_table_of_frbs()"
   ]
  },
  {
   "cell_type": "code",
   "execution_count": 3,
   "id": "9e0ec401-35c5-41e2-8f3e-be71a0ecc7ac",
   "metadata": {},
   "outputs": [
    {
     "data": {
      "text/html": [
       "<div>\n",
       "<style scoped>\n",
       "    .dataframe tbody tr th:only-of-type {\n",
       "        vertical-align: middle;\n",
       "    }\n",
       "\n",
       "    .dataframe tbody tr th {\n",
       "        vertical-align: top;\n",
       "    }\n",
       "\n",
       "    .dataframe thead th {\n",
       "        text-align: right;\n",
       "    }\n",
       "</style>\n",
       "<table border=\"1\" class=\"dataframe\">\n",
       "  <thead>\n",
       "    <tr style=\"text-align: right;\">\n",
       "      <th></th>\n",
       "      <th>FRB</th>\n",
       "      <th>RA</th>\n",
       "      <th>DEC</th>\n",
       "      <th>ee_a</th>\n",
       "      <th>ee_b</th>\n",
       "      <th>ee_a_sys</th>\n",
       "      <th>ee_b_sys</th>\n",
       "      <th>ee_theta</th>\n",
       "      <th>repeater</th>\n",
       "      <th>refs</th>\n",
       "      <th>DM</th>\n",
       "      <th>DM_err</th>\n",
       "      <th>fluence</th>\n",
       "      <th>fluence_err</th>\n",
       "      <th>RM</th>\n",
       "      <th>RM_err</th>\n",
       "      <th>lpol</th>\n",
       "      <th>lpol_err</th>\n",
       "      <th>z</th>\n",
       "      <th>DMISM</th>\n",
       "    </tr>\n",
       "  </thead>\n",
       "  <tbody>\n",
       "    <tr>\n",
       "      <th>0</th>\n",
       "      <td>FRB20121102</td>\n",
       "      <td>82.994589</td>\n",
       "      <td>33.147932</td>\n",
       "      <td>0.00400</td>\n",
       "      <td>0.00200</td>\n",
       "      <td>0.0015</td>\n",
       "      <td>0.0015</td>\n",
       "      <td>90.0</td>\n",
       "      <td>True</td>\n",
       "      <td>Tendulkar2017,Marcote2017</td>\n",
       "      <td>558.10</td>\n",
       "      <td>NaN</td>\n",
       "      <td>NaN</td>\n",
       "      <td>NaN</td>\n",
       "      <td>100000.0</td>\n",
       "      <td>NaN</td>\n",
       "      <td>NaN</td>\n",
       "      <td>NaN</td>\n",
       "      <td>0.19273</td>\n",
       "      <td>158.237871</td>\n",
       "    </tr>\n",
       "    <tr>\n",
       "      <th>1</th>\n",
       "      <td>FRB20171020</td>\n",
       "      <td>333.827292</td>\n",
       "      <td>-19.669786</td>\n",
       "      <td>600.00000</td>\n",
       "      <td>600.00000</td>\n",
       "      <td>0.0000</td>\n",
       "      <td>0.0000</td>\n",
       "      <td>0.0</td>\n",
       "      <td>False</td>\n",
       "      <td>Shannon2018,Mahony2018</td>\n",
       "      <td>114.10</td>\n",
       "      <td>0.20</td>\n",
       "      <td>NaN</td>\n",
       "      <td>NaN</td>\n",
       "      <td>NaN</td>\n",
       "      <td>NaN</td>\n",
       "      <td>NaN</td>\n",
       "      <td>NaN</td>\n",
       "      <td>0.00867</td>\n",
       "      <td>37.466170</td>\n",
       "    </tr>\n",
       "    <tr>\n",
       "      <th>2</th>\n",
       "      <td>FRB20180301</td>\n",
       "      <td>93.226833</td>\n",
       "      <td>4.671056</td>\n",
       "      <td>0.01142</td>\n",
       "      <td>0.00825</td>\n",
       "      <td>0.6190</td>\n",
       "      <td>0.6030</td>\n",
       "      <td>0.0</td>\n",
       "      <td>True</td>\n",
       "      <td>Bhandari2021</td>\n",
       "      <td>536.00</td>\n",
       "      <td>13.00</td>\n",
       "      <td>4.90</td>\n",
       "      <td>0.5</td>\n",
       "      <td>NaN</td>\n",
       "      <td>NaN</td>\n",
       "      <td>NaN</td>\n",
       "      <td>NaN</td>\n",
       "      <td>0.33044</td>\n",
       "      <td>133.015974</td>\n",
       "    </tr>\n",
       "    <tr>\n",
       "      <th>3</th>\n",
       "      <td>FRB20180916</td>\n",
       "      <td>29.503126</td>\n",
       "      <td>65.716754</td>\n",
       "      <td>0.00110</td>\n",
       "      <td>0.00110</td>\n",
       "      <td>0.0020</td>\n",
       "      <td>0.0020</td>\n",
       "      <td>0.0</td>\n",
       "      <td>True</td>\n",
       "      <td>Marcote2020</td>\n",
       "      <td>348.76</td>\n",
       "      <td>0.10</td>\n",
       "      <td>2.53</td>\n",
       "      <td>NaN</td>\n",
       "      <td>-114.6</td>\n",
       "      <td>0.6</td>\n",
       "      <td>NaN</td>\n",
       "      <td>NaN</td>\n",
       "      <td>0.03370</td>\n",
       "      <td>171.676368</td>\n",
       "    </tr>\n",
       "    <tr>\n",
       "      <th>4</th>\n",
       "      <td>FRB20180924</td>\n",
       "      <td>326.105229</td>\n",
       "      <td>-40.900028</td>\n",
       "      <td>0.07000</td>\n",
       "      <td>0.07000</td>\n",
       "      <td>0.1611</td>\n",
       "      <td>0.1611</td>\n",
       "      <td>0.0</td>\n",
       "      <td>False</td>\n",
       "      <td>Bannister2019,Day2020,Day2021</td>\n",
       "      <td>362.16</td>\n",
       "      <td>0.01</td>\n",
       "      <td>16.00</td>\n",
       "      <td>1.0</td>\n",
       "      <td>22.0</td>\n",
       "      <td>2.0</td>\n",
       "      <td>80.0</td>\n",
       "      <td>10.0</td>\n",
       "      <td>0.32120</td>\n",
       "      <td>41.894192</td>\n",
       "    </tr>\n",
       "  </tbody>\n",
       "</table>\n",
       "</div>"
      ],
      "text/plain": [
       "           FRB          RA        DEC       ee_a       ee_b  ee_a_sys  \\\n",
       "0  FRB20121102   82.994589  33.147932    0.00400    0.00200    0.0015   \n",
       "1  FRB20171020  333.827292 -19.669786  600.00000  600.00000    0.0000   \n",
       "2  FRB20180301   93.226833   4.671056    0.01142    0.00825    0.6190   \n",
       "3  FRB20180916   29.503126  65.716754    0.00110    0.00110    0.0020   \n",
       "4  FRB20180924  326.105229 -40.900028    0.07000    0.07000    0.1611   \n",
       "\n",
       "   ee_b_sys  ee_theta  repeater                           refs      DM  \\\n",
       "0    0.0015      90.0      True      Tendulkar2017,Marcote2017  558.10   \n",
       "1    0.0000       0.0     False         Shannon2018,Mahony2018  114.10   \n",
       "2    0.6030       0.0      True                   Bhandari2021  536.00   \n",
       "3    0.0020       0.0      True                    Marcote2020  348.76   \n",
       "4    0.1611       0.0     False  Bannister2019,Day2020,Day2021  362.16   \n",
       "\n",
       "   DM_err  fluence  fluence_err        RM  RM_err  lpol  lpol_err        z  \\\n",
       "0     NaN      NaN          NaN  100000.0     NaN   NaN       NaN  0.19273   \n",
       "1    0.20      NaN          NaN       NaN     NaN   NaN       NaN  0.00867   \n",
       "2   13.00     4.90          0.5       NaN     NaN   NaN       NaN  0.33044   \n",
       "3    0.10     2.53          NaN    -114.6     0.6   NaN       NaN  0.03370   \n",
       "4    0.01    16.00          1.0      22.0     2.0  80.0      10.0  0.32120   \n",
       "\n",
       "        DMISM  \n",
       "0  158.237871  \n",
       "1   37.466170  \n",
       "2  133.015974  \n",
       "3  171.676368  \n",
       "4   41.894192  "
      ]
     },
     "execution_count": 3,
     "metadata": {},
     "output_type": "execute_result"
    }
   ],
   "source": [
    "frbs.head()"
   ]
  },
  {
   "cell_type": "markdown",
   "id": "92be3174-8aef-4881-b322-3aca37cd4a31",
   "metadata": {},
   "source": [
    "# Check list"
   ]
  },
  {
   "cell_type": "code",
   "execution_count": 4,
   "id": "a901aa9d-e865-4923-94c1-70d56acc278f",
   "metadata": {},
   "outputs": [
    {
     "data": {
      "text/plain": [
       "0      FRB20121102\n",
       "1      FRB20171020\n",
       "2      FRB20180301\n",
       "3      FRB20180916\n",
       "4      FRB20180924\n",
       "5      FRB20181112\n",
       "6      FRB20190102\n",
       "7      FRB20190523\n",
       "8      FRB20190608\n",
       "9      FRB20190611\n",
       "10     FRB20190614\n",
       "11     FRB20190711\n",
       "12     FRB20190714\n",
       "13     FRB20191001\n",
       "14     FRB20191228\n",
       "15    FRB20200120E\n",
       "16     FRB20200430\n",
       "Name: FRB, dtype: object"
      ]
     },
     "execution_count": 4,
     "metadata": {},
     "output_type": "execute_result"
    }
   ],
   "source": [
    "frbs.FRB[:-4]"
   ]
  },
  {
   "cell_type": "markdown",
   "id": "8704f0a7-9e56-49df-9231-66cb4e3528ae",
   "metadata": {},
   "source": [
    "# Write to CSV"
   ]
  },
  {
   "cell_type": "code",
   "execution_count": 22,
   "id": "bb5b73f0-7641-47a1-afd0-8b1d576e613f",
   "metadata": {},
   "outputs": [],
   "source": [
    "frbs[:-4].copy().to_csv('public_frbs.csv')#, float_format='%.5f')"
   ]
  },
  {
   "cell_type": "markdown",
   "id": "af3e5a63-408c-44ea-aaa2-20b826af5a9c",
   "metadata": {},
   "source": [
    "----"
   ]
  },
  {
   "cell_type": "markdown",
   "id": "17dfc682-08e9-4b9c-8a99-ebd483694e7c",
   "metadata": {},
   "source": [
    "# Pulses"
   ]
  },
  {
   "cell_type": "code",
   "execution_count": null,
   "id": "dafb86a6-4605-43bd-8a4c-3d9d3aaf4625",
   "metadata": {},
   "outputs": [],
   "source": [
    "##"
   ]
  }
 ],
 "metadata": {
  "kernelspec": {
   "display_name": "Python 3 (ipykernel)",
   "language": "python",
   "name": "python3"
  },
  "language_info": {
   "codemirror_mode": {
    "name": "ipython",
    "version": 3
   },
   "file_extension": ".py",
   "mimetype": "text/x-python",
   "name": "python",
   "nbconvert_exporter": "python",
   "pygments_lexer": "ipython3",
   "version": "3.9.9"
  }
 },
 "nbformat": 4,
 "nbformat_minor": 5
}
